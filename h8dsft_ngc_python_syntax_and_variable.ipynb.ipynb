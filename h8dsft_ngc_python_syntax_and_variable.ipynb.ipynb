{
 "cells": [
  {
   "cell_type": "code",
   "execution_count": 31,
   "metadata": {},
   "outputs": [],
   "source": [
    "# Task #1\n",
    "\n",
    "customer_id = ['B818', 'A461', 'A092', 'A082', 'B341', 'A005', 'A092',  'A461','B219', 'B904', 'A901', 'A083', 'B904', 'A092', \n",
    "               'B341', 'B821','B341', 'B821', 'B904', 'B818', 'A901', 'A083', 'B818', 'A082','B219', 'B219', 'A083', 'A901', \n",
    "               'A082', 'B341', 'B341', 'A083','A082', 'B219', 'B439', 'A461', 'A005', 'A901', 'B341', 'A082','A083', 'A461', \n",
    "               'A083', 'A901', 'A461', 'A083', 'A082', 'A083','B341', 'A901', 'A082', 'A461', 'B219', 'A083', 'B818', 'B821',\n",
    "               'A092', 'B341', 'A461', 'A092', 'A083', 'B821', 'A092']\n",
    "\n",
    "# How many unique customer_id from above list?"
   ]
  },
  {
   "cell_type": "code",
   "execution_count": 32,
   "metadata": {},
   "outputs": [
    {
     "name": "stdout",
     "output_type": "stream",
     "text": [
      "12\n"
     ]
    }
   ],
   "source": [
    "# ANSWER Task #1\n",
    "unique_values = len(set(customer_id))\n",
    "print(unique_values)"
   ]
  },
  {
   "cell_type": "code",
   "execution_count": 33,
   "metadata": {},
   "outputs": [],
   "source": [
    "# Task #2\n",
    "\n",
    "Data = [1, 4, 9, 16, 25, 36, 49,  64, 81, 100]\n",
    "\n",
    "# Use indexing so you can get this output:\n",
    "# a.16\n",
    "# b.[36, 49, 64, 81]\n",
    "# c.[100, 81, 64, 49, 36, 25, 16, 9, 4, 1]\n"
   ]
  },
  {
   "cell_type": "code",
   "execution_count": 21,
   "metadata": {},
   "outputs": [
    {
     "name": "stdout",
     "output_type": "stream",
     "text": [
      "a :  16\n",
      "b :  [36, 49, 64, 81]\n",
      "c :  [100, 81, 64, 49, 36, 25, 16, 9, 4, 1]\n"
     ]
    }
   ],
   "source": [
    "# ANSWER Task #2\n",
    "print('a : ', str(Data[3]))\n",
    "\n",
    "b = Data[5:9]\n",
    "print('b : ', b)\n",
    "\n",
    "c = Data[::-1]\n",
    "print('c : ', c)\n"
   ]
  },
  {
   "cell_type": "code",
   "execution_count": 23,
   "metadata": {},
   "outputs": [],
   "source": [
    "# Task #3\n",
    "provinsi = {'Nanggroe Aceh Darussalam': 'Aceh','Sumatera Selatan': \n",
    "            'Palembang','Kalimantan Barat': 'Pontianak',\n",
    "            'Jawa Timur': 'Madiun','Sulawesi Selatan': 'Makassar',\n",
    "            'Maluku': 'Ambon'}\n",
    "\n",
    "# What python command can be use to:\n",
    "# a.Get list of keys available in dictionary\n",
    "# b.Change 'Jawa Timur' value from 'Madiun'  to 'Surabaya'6"
   ]
  },
  {
   "cell_type": "code",
   "execution_count": 30,
   "metadata": {},
   "outputs": [
    {
     "name": "stdout",
     "output_type": "stream",
     "text": [
      "a:  ['Nanggroe Aceh Darussalam', 'Sumatera Selatan', 'Kalimantan Barat', 'Jawa Timur', 'Sulawesi Selatan', 'Maluku']\n",
      "b :  Surabaya\n"
     ]
    }
   ],
   "source": [
    "# ANSWER Task #3\n",
    "\n",
    "# answer a\n",
    "a = list(provinsi.keys()) \n",
    "print('a: ', a)\n",
    "\n",
    "# answer b\n",
    "provinsi['Jawa Timur'] = \"Surabaya\"\n",
    "print('b : ', provinsi[\"Jawa Timur\"])"
   ]
  }
 ],
 "metadata": {
  "kernelspec": {
   "display_name": "base",
   "language": "python",
   "name": "python3"
  },
  "language_info": {
   "codemirror_mode": {
    "name": "ipython",
    "version": 3
   },
   "file_extension": ".py",
   "mimetype": "text/x-python",
   "name": "python",
   "nbconvert_exporter": "python",
   "pygments_lexer": "ipython3",
   "version": "3.9.17"
  },
  "orig_nbformat": 4
 },
 "nbformat": 4,
 "nbformat_minor": 2
}
